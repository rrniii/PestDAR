{
 "cells": [
  {
   "cell_type": "code",
   "execution_count": 2,
   "metadata": {},
   "outputs": [],
   "source": [
    "from glob import glob\n",
    "import os\n",
    "import datetime\n",
    "import shutil\n"
   ]
  },
  {
   "cell_type": "code",
   "execution_count": 3,
   "metadata": {},
   "outputs": [],
   "source": [
    "top_level_dir='/Volumes/Neely/PestDAR/Oman_Raw_Data_Plots/Salalah'"
   ]
  },
  {
   "cell_type": "code",
   "execution_count": 4,
   "metadata": {},
   "outputs": [
    {
     "name": "stdout",
     "output_type": "stream",
     "text": [
      "['/Volumes/Neely/PestDAR/Oman_Raw_Data_Plots/Salalah/ele10_0', '/Volumes/Neely/PestDAR/Oman_Raw_Data_Plots/Salalah/ele15_0', '/Volumes/Neely/PestDAR/Oman_Raw_Data_Plots/Salalah/ele1_0', '/Volumes/Neely/PestDAR/Oman_Raw_Data_Plots/Salalah/ele1_5', '/Volumes/Neely/PestDAR/Oman_Raw_Data_Plots/Salalah/ele2_0', '/Volumes/Neely/PestDAR/Oman_Raw_Data_Plots/Salalah/ele4_0', '/Volumes/Neely/PestDAR/Oman_Raw_Data_Plots/Salalah/ele6_0']\n"
     ]
    }
   ],
   "source": [
    "#elevation_dirs\n",
    "elevation_dirs=glob(top_level_dir+'/ele*',recursive=False)\n",
    "print(elevation_dirs)"
   ]
  },
  {
   "cell_type": "code",
   "execution_count": 5,
   "metadata": {},
   "outputs": [
    {
     "name": "stdout",
     "output_type": "stream",
     "text": [
      "['/Volumes/Neely/PestDAR/Oman_Raw_Data_Plots/Salalah/ele10_0/100km', '/Volumes/Neely/PestDAR/Oman_Raw_Data_Plots/Salalah/ele10_0/25km', '/Volumes/Neely/PestDAR/Oman_Raw_Data_Plots/Salalah/ele10_0/50km', '/Volumes/Neely/PestDAR/Oman_Raw_Data_Plots/Salalah/ele10_0/75km', '/Volumes/Neely/PestDAR/Oman_Raw_Data_Plots/Salalah/ele15_0/100km', '/Volumes/Neely/PestDAR/Oman_Raw_Data_Plots/Salalah/ele15_0/25km', '/Volumes/Neely/PestDAR/Oman_Raw_Data_Plots/Salalah/ele15_0/50km', '/Volumes/Neely/PestDAR/Oman_Raw_Data_Plots/Salalah/ele15_0/75km', '/Volumes/Neely/PestDAR/Oman_Raw_Data_Plots/Salalah/ele1_0/100km', '/Volumes/Neely/PestDAR/Oman_Raw_Data_Plots/Salalah/ele1_0/25km', '/Volumes/Neely/PestDAR/Oman_Raw_Data_Plots/Salalah/ele1_0/50km', '/Volumes/Neely/PestDAR/Oman_Raw_Data_Plots/Salalah/ele1_0/75km', '/Volumes/Neely/PestDAR/Oman_Raw_Data_Plots/Salalah/ele1_5/100km', '/Volumes/Neely/PestDAR/Oman_Raw_Data_Plots/Salalah/ele1_5/25km', '/Volumes/Neely/PestDAR/Oman_Raw_Data_Plots/Salalah/ele1_5/50km', '/Volumes/Neely/PestDAR/Oman_Raw_Data_Plots/Salalah/ele1_5/75km', '/Volumes/Neely/PestDAR/Oman_Raw_Data_Plots/Salalah/ele2_0/100km', '/Volumes/Neely/PestDAR/Oman_Raw_Data_Plots/Salalah/ele2_0/25km', '/Volumes/Neely/PestDAR/Oman_Raw_Data_Plots/Salalah/ele2_0/50km', '/Volumes/Neely/PestDAR/Oman_Raw_Data_Plots/Salalah/ele2_0/75km', '/Volumes/Neely/PestDAR/Oman_Raw_Data_Plots/Salalah/ele4_0/100km', '/Volumes/Neely/PestDAR/Oman_Raw_Data_Plots/Salalah/ele4_0/25km', '/Volumes/Neely/PestDAR/Oman_Raw_Data_Plots/Salalah/ele4_0/50km', '/Volumes/Neely/PestDAR/Oman_Raw_Data_Plots/Salalah/ele4_0/75km', '/Volumes/Neely/PestDAR/Oman_Raw_Data_Plots/Salalah/ele6_0/100km', '/Volumes/Neely/PestDAR/Oman_Raw_Data_Plots/Salalah/ele6_0/25km', '/Volumes/Neely/PestDAR/Oman_Raw_Data_Plots/Salalah/ele6_0/50km', '/Volumes/Neely/PestDAR/Oman_Raw_Data_Plots/Salalah/ele6_0/75km']\n"
     ]
    }
   ],
   "source": [
    "#range_dirs\n",
    "range_dirs=[]\n",
    "for d in elevation_dirs:\n",
    "    range_dirs.extend(glob(d+'/*km',recursive=False))\n",
    "\n",
    "print(range_dirs)"
   ]
  },
  {
   "cell_type": "code",
   "execution_count": null,
   "metadata": {},
   "outputs": [],
   "source": []
  },
  {
   "cell_type": "code",
   "execution_count": 11,
   "metadata": {},
   "outputs": [
    {
     "name": "stdout",
     "output_type": "stream",
     "text": [
      "/Volumes/Neely/PestDAR/Oman_Raw_Data_Plots/Salalah/ele10_0/100km\n",
      "2020-04-01\n",
      "2020-06-30\n",
      "/Volumes/Neely/PestDAR/Oman_Raw_Data_Plots/Salalah/ele10_0/25km\n",
      "2020-04-01\n",
      "2020-06-30\n",
      "/Volumes/Neely/PestDAR/Oman_Raw_Data_Plots/Salalah/ele10_0/50km\n",
      "2020-04-01\n",
      "2020-06-30\n",
      "/Volumes/Neely/PestDAR/Oman_Raw_Data_Plots/Salalah/ele10_0/75km\n",
      "2020-04-01\n",
      "2020-06-30\n",
      "/Volumes/Neely/PestDAR/Oman_Raw_Data_Plots/Salalah/ele15_0/100km\n",
      "2020-04-01\n",
      "2020-06-30\n",
      "/Volumes/Neely/PestDAR/Oman_Raw_Data_Plots/Salalah/ele15_0/25km\n",
      "2020-04-01\n",
      "2020-06-30\n",
      "/Volumes/Neely/PestDAR/Oman_Raw_Data_Plots/Salalah/ele15_0/50km\n",
      "2020-04-01\n",
      "2020-06-30\n",
      "/Volumes/Neely/PestDAR/Oman_Raw_Data_Plots/Salalah/ele15_0/75km\n",
      "2020-04-01\n",
      "2020-06-30\n",
      "/Volumes/Neely/PestDAR/Oman_Raw_Data_Plots/Salalah/ele1_0/100km\n",
      "2020-04-01\n",
      "2020-06-30\n",
      "/Volumes/Neely/PestDAR/Oman_Raw_Data_Plots/Salalah/ele1_0/25km\n",
      "2020-04-01\n",
      "2020-06-30\n",
      "/Volumes/Neely/PestDAR/Oman_Raw_Data_Plots/Salalah/ele1_0/50km\n",
      "2020-04-01\n",
      "2020-06-30\n",
      "/Volumes/Neely/PestDAR/Oman_Raw_Data_Plots/Salalah/ele1_0/75km\n",
      "2020-04-01\n",
      "2020-06-30\n",
      "/Volumes/Neely/PestDAR/Oman_Raw_Data_Plots/Salalah/ele1_5/100km\n",
      "2020-04-01\n",
      "2020-06-30\n",
      "/Volumes/Neely/PestDAR/Oman_Raw_Data_Plots/Salalah/ele1_5/25km\n",
      "2020-04-01\n",
      "2020-06-30\n",
      "/Volumes/Neely/PestDAR/Oman_Raw_Data_Plots/Salalah/ele1_5/50km\n",
      "2020-04-01\n",
      "2020-06-30\n",
      "/Volumes/Neely/PestDAR/Oman_Raw_Data_Plots/Salalah/ele1_5/75km\n",
      "2020-04-01\n",
      "2020-06-30\n",
      "/Volumes/Neely/PestDAR/Oman_Raw_Data_Plots/Salalah/ele2_0/100km\n",
      "2020-04-01\n",
      "2020-06-30\n",
      "/Volumes/Neely/PestDAR/Oman_Raw_Data_Plots/Salalah/ele2_0/25km\n",
      "2020-04-01\n",
      "2020-06-30\n",
      "/Volumes/Neely/PestDAR/Oman_Raw_Data_Plots/Salalah/ele2_0/50km\n",
      "2020-04-01\n",
      "2020-06-30\n",
      "/Volumes/Neely/PestDAR/Oman_Raw_Data_Plots/Salalah/ele2_0/75km\n",
      "2020-04-01\n",
      "2020-06-30\n",
      "/Volumes/Neely/PestDAR/Oman_Raw_Data_Plots/Salalah/ele4_0/100km\n",
      "2020-04-01\n",
      "2020-06-30\n",
      "/Volumes/Neely/PestDAR/Oman_Raw_Data_Plots/Salalah/ele4_0/25km\n",
      "2020-04-01\n",
      "2020-06-30\n",
      "/Volumes/Neely/PestDAR/Oman_Raw_Data_Plots/Salalah/ele4_0/50km\n",
      "2020-04-01\n",
      "2020-06-30\n",
      "/Volumes/Neely/PestDAR/Oman_Raw_Data_Plots/Salalah/ele4_0/75km\n",
      "2020-04-01\n",
      "2020-06-30\n",
      "/Volumes/Neely/PestDAR/Oman_Raw_Data_Plots/Salalah/ele6_0/100km\n",
      "2020-04-01\n",
      "2020-06-30\n",
      "/Volumes/Neely/PestDAR/Oman_Raw_Data_Plots/Salalah/ele6_0/25km\n",
      "2020-04-01\n",
      "2020-06-30\n",
      "/Volumes/Neely/PestDAR/Oman_Raw_Data_Plots/Salalah/ele6_0/50km\n",
      "2020-04-01\n",
      "2020-06-30\n",
      "/Volumes/Neely/PestDAR/Oman_Raw_Data_Plots/Salalah/ele6_0/75km\n",
      "2020-04-01\n",
      "2020-06-30\n"
     ]
    }
   ],
   "source": [
    "for r in range_dirs:\n",
    "    print(r)\n",
    "    #all files in one dir sorted\n",
    "    all_files=sorted(glob(r+'/*.png',recursive=False))\n",
    "    \n",
    "    first_day=all_files[0][-28:-18]\n",
    "    if first_day[-1]==\"T\":\n",
    "        first_day=all_files[0][-29:-19]    \n",
    "    print(first_day)\n",
    "    \n",
    "    last_day=all_files[-1][-28:-18]\n",
    "    if last_day[-1]==\"T\":\n",
    "        last_day=all_files[-1][-29:-19]\n",
    "    print(last_day)\n",
    "\n",
    "    "
   ]
  },
  {
   "cell_type": "code",
   "execution_count": 12,
   "metadata": {},
   "outputs": [
    {
     "ename": "IndentationError",
     "evalue": "unexpected indent (<ipython-input-12-02d324d0a05d>, line 2)",
     "output_type": "error",
     "traceback": [
      "\u001b[0;36m  File \u001b[0;32m\"<ipython-input-12-02d324d0a05d>\"\u001b[0;36m, line \u001b[0;32m2\u001b[0m\n\u001b[0;31m    end = datetime.datetime.strptime(str(last_day), \"%Y-%m-%d\")\u001b[0m\n\u001b[0m    ^\u001b[0m\n\u001b[0;31mIndentationError\u001b[0m\u001b[0;31m:\u001b[0m unexpected indent\n"
     ]
    }
   ],
   "source": [
    "start = datetime.datetime.strptime(str(first_day), \"%Y-%m-%d\")\n",
    "    end = datetime.datetime.strptime(str(last_day), \"%Y-%m-%d\")\n",
    "    date_generated = [start + datetime.timedelta(days=x) for x in range(0, (end-start).days+1)]\n",
    "\n",
    "    for date in date_generated:\n",
    "        day_files=sorted(glob(r+'/*'+date.strftime(\"%Y-%m-%d\")+'*.png',recursive=False))\n",
    "        print(date.strftime(\"%Y-%m-%d\"))\n",
    "        day_dir=os.path.join(r,date.strftime(\"%Y-%m-%d\"))\n",
    "        os.mkdir(day_dir)\n",
    "        print(day_dir)\n",
    "        for f in day_files:\n",
    "            shutil.move(f, day_dir)\n",
    "   \n",
    "   "
   ]
  },
  {
   "cell_type": "code",
   "execution_count": null,
   "metadata": {},
   "outputs": [],
   "source": []
  },
  {
   "cell_type": "code",
   "execution_count": null,
   "metadata": {},
   "outputs": [],
   "source": []
  }
 ],
 "metadata": {
  "kernelspec": {
   "display_name": "Python 3",
   "language": "python",
   "name": "python3"
  },
  "language_info": {
   "codemirror_mode": {
    "name": "ipython",
    "version": 3
   },
   "file_extension": ".py",
   "mimetype": "text/x-python",
   "name": "python",
   "nbconvert_exporter": "python",
   "pygments_lexer": "ipython3",
   "version": "3.7.6"
  }
 },
 "nbformat": 4,
 "nbformat_minor": 4
}
